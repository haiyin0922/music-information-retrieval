{
 "cells": [
  {
   "cell_type": "markdown",
   "metadata": {},
   "source": [
    "# HW1\n",
    "## 105072123 黃海茵"
   ]
  },
  {
   "cell_type": "code",
   "execution_count": 5,
   "metadata": {},
   "outputs": [],
   "source": [
    "import librosa\n",
    "import pretty_midi\n",
    "import mir_eval\n",
    "import scipy\n",
    "import os\n",
    "import math"
   ]
  },
  {
   "cell_type": "code",
   "execution_count": 6,
   "metadata": {},
   "outputs": [],
   "source": [
    "y_key = {\n",
    "    0: [0, 1, 1, 0, 1, 0, 1, 0, 1, 1, 0, 1],\n",
    "    1: [1, 0, 1, 1, 0, 1, 0, 1, 0, 1, 1, 0],\n",
    "    2: [0, 1, 0, 1, 1, 0, 1, 0, 1, 0, 1, 1],   \n",
    "    3: [1, 0, 1, 0, 1, 1, 0, 1, 0, 1, 0, 1],\n",
    "    4: [1, 1, 0, 1, 0, 1, 1, 0, 1, 0, 1, 0],\n",
    "    5: [0, 1, 1, 0, 1, 0, 1, 1, 0, 1, 0, 1],\n",
    "    6: [1, 0, 1, 1, 0, 1, 0, 1, 1, 0, 1, 0],\n",
    "    7: [0, 1, 0, 1, 1, 0, 1, 0, 1, 1, 0, 1],\n",
    "    8: [1, 0, 1, 0, 1, 1, 0, 1, 0, 1, 1, 0],\n",
    "    9: [0, 1, 0, 1, 0, 1, 1, 0, 1, 0, 1, 1],\n",
    "    10: [1, 0, 1, 0, 1, 0, 1, 1, 0, 1, 0, 1],\n",
    "    11: [1, 1, 0, 1, 0, 1, 0, 1, 1, 0, 1, 0],\n",
    "    12: [1, 0, 1, 0, 1, 1, 0, 1, 0, 1, 0, 1],\n",
    "    13: [1, 1, 0, 1, 0, 1, 1, 0, 1, 0, 1, 0],\n",
    "    14: [0, 1, 1, 0, 1, 0, 1, 1, 0, 1, 0, 1],\n",
    "    15: [1, 0, 1, 1, 0, 1, 0, 1, 1, 0, 1, 0],\n",
    "    16: [0, 1, 0, 1, 1, 0, 1, 0, 1, 1, 0, 1],\n",
    "    17: [1, 0, 1, 0, 1, 1, 0, 1, 0, 1, 1, 0],\n",
    "    18: [0, 1, 0, 1, 0, 1, 1, 0, 1, 0, 1, 1],\n",
    "    19: [1, 0, 1, 0, 1, 0, 1, 1, 0, 1, 0, 1],\n",
    "    20: [1, 1, 0, 1, 0, 1, 0, 1, 1, 0, 1, 0],\n",
    "    21: [0, 1, 1, 0, 1, 0, 1, 0, 1, 1, 0, 1],\n",
    "    22: [1, 0, 1, 1, 0, 1, 0, 1, 0, 1, 1, 0],\n",
    "    23: [0, 1, 0, 1, 1, 0, 1, 0, 1, 0, 1, 1],\n",
    "}"
   ]
  },
  {
   "cell_type": "code",
   "execution_count": 7,
   "metadata": {},
   "outputs": [],
   "source": [
    "index_key = {'A major': 0, 'Bb major': 1, 'B major': 2, 'C major': 3, 'Db major': 4, 'D major': 5,\n",
    "             'Eb major': 6, 'E major': 7, 'F major': 8, 'Gb major': 9, 'G major': 10, 'Ab major': 11,\n",
    "             'A minor': 12, 'Bb minor': 13, 'B minor': 14, 'C minor': 15, 'Db minor': 16, 'D minor': 17,\n",
    "             'Eb minor': 18, 'E minor': 19, 'F minor': 20, 'Gb minor': 21, 'G minor': 22, 'Ab minor': 23}"
   ]
  },
  {
   "cell_type": "code",
   "execution_count": 8,
   "metadata": {},
   "outputs": [],
   "source": [
    "index_key2 = {'A': 0, 'A+': 1, 'B-': 1, 'B': 2, 'C': 3, 'C+': 4, 'D-': 4, 'D': 5,\n",
    "              'D+': 6, 'E-': 6, 'E': 7, 'F': 8, 'F+': 9, 'G-': 9, 'G': 10, 'G+': 11, 'A-': 11,\n",
    "              'a': 12, 'a+': 13, 'b-': 13, 'b': 14, 'c': 15, 'c+':16, 'd-': 16, 'd': 17,\n",
    "              'd+':18, 'e-': 18, 'e': 19, 'f': 20, 'f+': 21, 'g-': 21, 'g': 22, 'g+': 23, 'a-': 23}"
   ]
  },
  {
   "cell_type": "code",
   "execution_count": 9,
   "metadata": {},
   "outputs": [],
   "source": [
    "list_key = ['A major', 'Bb major', 'B major', 'C major', 'Db major', 'D major',\n",
    "            'Eb major', 'E major', 'F major', 'Gb major', 'G major', 'Ab major',\n",
    "            'A minor', 'Bb minor', 'B minor', 'C minor', 'Db minor', 'D minor',\n",
    "            'Eb minor', 'E minor', 'F minor', 'Gb minor', 'G minor', 'Ab minor']"
   ]
  },
  {
   "cell_type": "code",
   "execution_count": 10,
   "metadata": {},
   "outputs": [],
   "source": [
    "KS_major = [6.35, 2.23, 3.48, 2.33, 4.38, 4.09, 2.52, 5.19, 2.39, 3.66, 2.29, 2.88]\n",
    "KS_minor = [6.33, 2.68, 3.52, 5.38, 2.60, 3.53, 2.54, 4.75, 3.98, 2.69, 3.34, 3.17]\n",
    "KS_key = {}\n",
    "\n",
    "for i in range(12):\n",
    "    KS_key[i] = [0, 0, 0, 0, 0, 0, 0, 0, 0, 0, 0, 0]\n",
    "    for j in range(12):\n",
    "        pos = (9+i+j) % 12\n",
    "        KS_key[i][pos] = KS_major[j]\n",
    "        \n",
    "for i in range(12, 24):\n",
    "    KS_key[i] = [0, 0, 0, 0, 0, 0, 0, 0, 0, 0, 0, 0]\n",
    "    for j in range(12):\n",
    "        pos = (9+i+j) % 12\n",
    "        KS_key[i][pos] = KS_minor[j]"
   ]
  },
  {
   "cell_type": "markdown",
   "metadata": {},
   "source": [
    "# Task1_Q1\n",
    "## GiantSteps"
   ]
  },
  {
   "cell_type": "code",
   "execution_count": 59,
   "metadata": {},
   "outputs": [],
   "source": [
    "music_giant = []\n",
    "label_giant = []\n",
    "pieces_all = 0\n",
    "correct_all = 0\n",
    "\n",
    "for file in os.listdir('giantsteps/audio/'):\n",
    "    if file.endswith('.wav'):\n",
    "        f = open(('giantsteps/annotations/key/' + file).replace('wav', 'key'), 'r')\n",
    "        key = index_key[f.read()]\n",
    "        \n",
    "        y, sr = librosa.load('giantsteps/audio/' + file)\n",
    "        chroma = librosa.feature.chroma_stft(y=y, sr=sr)\n",
    "        x = []\n",
    "        for z in chroma:\n",
    "            x.append(sum(z))    \n",
    "        j = (x.index(max(x))+3) % 12\n",
    "        RM = scipy.stats.pearsonr(x, y_key[j])[0]\n",
    "        Rm = scipy.stats.pearsonr(x, y_key[j+12])[0]\n",
    "        if RM > Rm:\n",
    "            music_key = j\n",
    "        else:\n",
    "            music_key = j + 12\n",
    "        \n",
    "        f = open(('giantsteps/annotations/key/' + file).replace('wav', 'key'), 'r')\n",
    "        label_key = index_key[f.read()]\n",
    "        f.close()\n",
    "\n",
    "        pieces_all += 1\n",
    "        if music_key == label_key:\n",
    "            correct_all += 1\n",
    "                \n",
    "        music_giant.append(music_key)\n",
    "        label_giant.append(label_key)"
   ]
  },
  {
   "cell_type": "code",
   "execution_count": 64,
   "metadata": {},
   "outputs": [
    {
     "name": "stdout",
     "output_type": "stream",
     "text": [
      "giantsteps ACC: 0.27879799666110183\n"
     ]
    }
   ],
   "source": [
    "print('giantsteps ACC: ' + str(correct_all/pieces_all))"
   ]
  },
  {
   "cell_type": "markdown",
   "metadata": {},
   "source": [
    "## GTZAN"
   ]
  },
  {
   "cell_type": "code",
   "execution_count": 107,
   "metadata": {},
   "outputs": [
    {
     "name": "stdout",
     "output_type": "stream",
     "text": [
      "blues ACC:     0.07142857142857142\n",
      "country ACC:   0.32323232323232326\n",
      "disco ACC:     0.3163265306122449\n",
      "hiphop ACC:    0.13580246913580246\n",
      "jazz ACC:      0.16455696202531644\n",
      "metal ACC:     0.24731182795698925\n",
      "pop ACC:       0.4148936170212766\n",
      "reggae ACC:    0.32989690721649484\n",
      "rock ACC:      0.3469387755102041\n"
     ]
    }
   ],
   "source": [
    "genre = ['blues', 'country', 'disco', 'hiphop', 'jazz', 'metal', 'pop', 'reggae', 'rock']\n",
    "music = {}\n",
    "label = {}\n",
    "pieces_all = 0\n",
    "correct_all = 0\n",
    "\n",
    "for g in genre:\n",
    "    pieces_gen = 0\n",
    "    correct_gen = 0\n",
    "    music[g] = []\n",
    "    label[g] = []\n",
    "    for i in range(100):\n",
    "        wav = 'GTZAN_wav/' + g + '/' + g + '.' + str(i).zfill(5) + '.wav'\n",
    "        txt =  'gtzan_key/genres/' + g + '/' + g + '.' + str(i).zfill(5) + '.lerch.txt'\n",
    "\n",
    "        y, sr = librosa.load(wav)\n",
    "        chroma = librosa.feature.chroma_stft(y=y, sr=sr)\n",
    "        x = []\n",
    "        for z in chroma:\n",
    "            x.append(sum(z))    \n",
    "        j = (x.index(max(x))+3) % 12\n",
    "        RM = scipy.stats.pearsonr(x, y_key[j])[0]\n",
    "        Rm = scipy.stats.pearsonr(x, y_key[j+12])[0]\n",
    "        if RM > Rm:\n",
    "            music_key = j\n",
    "        else:\n",
    "            music_key = j + 12\n",
    "\n",
    "        f = open(txt, 'r');\n",
    "        label_key = int(f.read())\n",
    "        f.close()\n",
    "\n",
    "        if label_key >= 0:\n",
    "            pieces_gen += 1\n",
    "            if music_key == label_key:\n",
    "                correct_gen += 1\n",
    "                \n",
    "        music[g].append(music_key)\n",
    "        label[g].append(label_key)\n",
    "\n",
    "    pieces_all += pieces_gen\n",
    "    correct_all += correct_gen\n",
    "    print('{:<15}'.format(g + ' ACC: ') + str(correct_gen/pieces_gen))"
   ]
  },
  {
   "cell_type": "code",
   "execution_count": 108,
   "metadata": {},
   "outputs": [
    {
     "name": "stdout",
     "output_type": "stream",
     "text": [
      "overall ACC:   0.26523297491039427\n"
     ]
    }
   ],
   "source": [
    "print('{:<15}'.format('overall ACC: ') + str(correct_all/pieces_all)) "
   ]
  },
  {
   "cell_type": "markdown",
   "metadata": {},
   "source": [
    "# Task1_Q2\n",
    "## GiantSteps"
   ]
  },
  {
   "cell_type": "code",
   "execution_count": 72,
   "metadata": {},
   "outputs": [],
   "source": [
    "def task1_giant_q2(gamma):\n",
    "    \n",
    "    music_giant_q2 = []\n",
    "    label_giant_q2 = []\n",
    "    pieces_all = 0\n",
    "    correct_all = 0\n",
    "    \n",
    "    for file in os.listdir('giantsteps/audio/'):\n",
    "        if file.endswith('.wav'):\n",
    "            f = open(('giantsteps/annotations/key/' + file).replace('wav', 'key'), 'r')\n",
    "            key = index_key[f.read()]\n",
    "\n",
    "            y, sr = librosa.load('giantsteps/audio/' + file)\n",
    "            chroma = librosa.feature.chroma_stft(y=y, sr=sr)\n",
    "            x = []\n",
    "            for z in chroma:\n",
    "                for i in range(len(z)):\n",
    "                    z[i] = math.log(1 + gamma*abs(z[i]))\n",
    "                x.append(sum(z))    \n",
    "            j = (x.index(max(x))+3) % 12\n",
    "            RM = scipy.stats.pearsonr(x, y_key[j])[0]\n",
    "            Rm = scipy.stats.pearsonr(x, y_key[j+12])[0]\n",
    "            if RM > Rm:\n",
    "                music_key = j\n",
    "            else:\n",
    "                music_key = j + 12\n",
    "\n",
    "            f = open(('giantsteps/annotations/key/' + file).replace('wav', 'key'), 'r')\n",
    "            label_key = index_key[f.read()]\n",
    "            f.close()\n",
    "\n",
    "            pieces_all += 1\n",
    "            if music_key == label_key:\n",
    "                correct_all += 1\n",
    "\n",
    "            music_giant_q2.append(music_key)\n",
    "            label_giant_q2.append(label_key)\n",
    "            \n",
    "    return correct_all/pieces_all"
   ]
  },
  {
   "cell_type": "code",
   "execution_count": 75,
   "metadata": {},
   "outputs": [
    {
     "name": "stdout",
     "output_type": "stream",
     "text": [
      "gamma = 1.0, giantsteps ACC: 0.2671118530884808\n",
      "gamma = 10.0, giantsteps ACC: 0.24207011686143573\n",
      "gamma = 100.0, giantsteps ACC: 0.2370617696160267\n",
      "gamma = 1000.0, giantsteps ACC: 0.2337228714524207\n"
     ]
    }
   ],
   "source": [
    "for i in range(4):\n",
    "    gamma = math.pow(10, i)\n",
    "    ACC = task1_giant_q2(gamma)\n",
    "    print('gamma = ' + str(gamma) + ', giantsteps ACC: ' + str(ACC))"
   ]
  },
  {
   "cell_type": "markdown",
   "metadata": {},
   "source": [
    "## GTZAN"
   ]
  },
  {
   "cell_type": "code",
   "execution_count": 109,
   "metadata": {},
   "outputs": [],
   "source": [
    "def task1_gtzan_q2(gamma):\n",
    "\n",
    "    music_q2 = {}\n",
    "    label_q2 = {}\n",
    "    pieces_all = 0\n",
    "    correct_all = 0\n",
    "\n",
    "    for g in genre:\n",
    "        pieces_gen = 0\n",
    "        correct_gen = 0\n",
    "        music_q2[g] = []\n",
    "        label_q2[g] = []\n",
    "        for i in range(100):\n",
    "            wav = 'GTZAN_wav/' + g + '/' + g + '.' + str(i).zfill(5) + '.wav'\n",
    "            txt =  'gtzan_key/genres/' + g + '/' + g + '.' + str(i).zfill(5) + '.lerch.txt'\n",
    "\n",
    "            y, sr = librosa.load(wav)\n",
    "            chroma = librosa.feature.chroma_stft(y=y, sr=sr)\n",
    "            x = []\n",
    "            for z in chroma:\n",
    "                for i in range(len(z)):\n",
    "                    z[i] = math.log(1 + gamma*abs(z[i]))\n",
    "                x.append(sum(z))    \n",
    "            j = (x.index(max(x))+3) % 12\n",
    "            RM = scipy.stats.pearsonr(x, y_key[j])[0]\n",
    "            Rm = scipy.stats.pearsonr(x, y_key[j+12])[0]\n",
    "            if RM > Rm:\n",
    "                music_key = j\n",
    "            else:\n",
    "                music_key = j + 12\n",
    "\n",
    "            f = open(txt, 'r');\n",
    "            label_key = int(f.read())\n",
    "            f.close()\n",
    "\n",
    "            if label_key >= 0:\n",
    "                pieces_gen += 1\n",
    "                if music_key == label_key:\n",
    "                    correct_gen += 1\n",
    "\n",
    "            music_q2[g].append(music_key)\n",
    "            label_q2[g].append(label_key)\n",
    "\n",
    "        pieces_all += pieces_gen\n",
    "        correct_all += correct_gen\n",
    "        print('{:<30}'.format('gamma = ' + str(gamma) + ', ' + g + ' ACC: ') + str(correct_gen/pieces_gen))\n",
    "        \n",
    "    return correct_all/pieces_all"
   ]
  },
  {
   "cell_type": "code",
   "execution_count": 74,
   "metadata": {},
   "outputs": [
    {
     "name": "stdout",
     "output_type": "stream",
     "text": [
      "gamma = 1.0, blues ACC:       0.07142857142857142\n",
      "gamma = 1.0, country ACC:     0.3434343434343434\n",
      "gamma = 1.0, disco ACC:       0.32653061224489793\n",
      "gamma = 1.0, hiphop ACC:      0.13580246913580246\n",
      "gamma = 1.0, jazz ACC:        0.16455696202531644\n",
      "gamma = 1.0, metal ACC:       0.21505376344086022\n",
      "gamma = 1.0, pop ACC:         0.40425531914893614\n",
      "gamma = 1.0, reggae ACC:      0.31958762886597936\n",
      "gamma = 1.0, rock ACC:        0.336734693877551\n",
      "gamma = 1.0, overall ACC:     0.2616487455197133\n",
      "gamma = 10.0, blues ACC:      0.04081632653061224\n",
      "gamma = 10.0, country ACC:    0.31313131313131315\n",
      "gamma = 10.0, disco ACC:      0.2857142857142857\n",
      "gamma = 10.0, hiphop ACC:     0.14814814814814814\n",
      "gamma = 10.0, jazz ACC:       0.11392405063291139\n",
      "gamma = 10.0, metal ACC:      0.1935483870967742\n",
      "gamma = 10.0, pop ACC:        0.39361702127659576\n",
      "gamma = 10.0, reggae ACC:     0.28865979381443296\n",
      "gamma = 10.0, rock ACC:       0.30612244897959184\n",
      "gamma = 10.0, overall ACC:    0.23536439665471923\n",
      "gamma = 100.0, blues ACC:     0.04081632653061224\n",
      "gamma = 100.0, country ACC:   0.31313131313131315\n",
      "gamma = 100.0, disco ACC:     0.2857142857142857\n",
      "gamma = 100.0, hiphop ACC:    0.09876543209876543\n",
      "gamma = 100.0, jazz ACC:      0.13924050632911392\n",
      "gamma = 100.0, metal ACC:     0.1935483870967742\n",
      "gamma = 100.0, pop ACC:       0.3404255319148936\n",
      "gamma = 100.0, reggae ACC:    0.24742268041237114\n",
      "gamma = 100.0, rock ACC:      0.2755102040816326\n",
      "gamma = 100.0, overall ACC:   0.21863799283154123\n",
      "gamma = 1000.0, blues ACC:    0.05102040816326531\n",
      "gamma = 1000.0, country ACC:  0.31313131313131315\n",
      "gamma = 1000.0, disco ACC:    0.2755102040816326\n",
      "gamma = 1000.0, hiphop ACC:   0.08641975308641975\n",
      "gamma = 1000.0, jazz ACC:     0.13924050632911392\n",
      "gamma = 1000.0, metal ACC:    0.1935483870967742\n",
      "gamma = 1000.0, pop ACC:      0.32978723404255317\n",
      "gamma = 1000.0, reggae ACC:   0.25773195876288657\n",
      "gamma = 1000.0, rock ACC:     0.2857142857142857\n",
      "gamma = 1000.0, overall ACC:  0.21863799283154123\n"
     ]
    }
   ],
   "source": [
    "for i in range(4):\n",
    "    gamma = math.pow(10, i)\n",
    "    ACC = task1_gtzan_q2(gamma)\n",
    "    print('{:<30}'.format('gamma = ' + str(gamma) + ', overall ACC: ') + str(ACC))"
   ]
  },
  {
   "cell_type": "markdown",
   "metadata": {},
   "source": [
    "# Task1_Q3\n",
    "## GiantSteps"
   ]
  },
  {
   "cell_type": "code",
   "execution_count": 78,
   "metadata": {},
   "outputs": [],
   "source": [
    "pieces_all = 0\n",
    "correct_all = 0\n",
    "\n",
    "for i in range(len(music_giant)):\n",
    "    ref_key = list_key[music_giant[i]]\n",
    "    est_key = list_key[label_giant[i]]\n",
    "    correct_all += mir_eval.key.weighted_score(ref_key, est_key)\n",
    "    pieces_all += 1"
   ]
  },
  {
   "cell_type": "code",
   "execution_count": 79,
   "metadata": {},
   "outputs": [
    {
     "name": "stdout",
     "output_type": "stream",
     "text": [
      "giantsteps new ACC: 0.33856427378964904\n"
     ]
    }
   ],
   "source": [
    "print('giantsteps new ACC: ' + str(correct_all/pieces_all))"
   ]
  },
  {
   "cell_type": "markdown",
   "metadata": {},
   "source": [
    "## GTZAN"
   ]
  },
  {
   "cell_type": "code",
   "execution_count": 110,
   "metadata": {},
   "outputs": [
    {
     "name": "stdout",
     "output_type": "stream",
     "text": [
      "blues new ACC:      0.18571428571428564\n",
      "country new ACC:    0.3363636363636363\n",
      "disco new ACC:      0.3469387755102041\n",
      "hiphop new ACC:     0.18395061728395057\n",
      "jazz new ACC:       0.2240506329113924\n",
      "metal new ACC:      0.3053763440860214\n",
      "pop new ACC:        0.4542553191489362\n",
      "reggae new ACC:     0.35463917525773203\n",
      "rock new ACC:       0.41122448979591836\n"
     ]
    }
   ],
   "source": [
    "pieces_all = 0\n",
    "correct_all = 0\n",
    "\n",
    "for g in genre:\n",
    "    pieces_gen = 0\n",
    "    correct_gen = 0\n",
    "    for i in range(100):\n",
    "        if label[g][i] >= 0:\n",
    "            ref_key = list_key[music[g][i]]\n",
    "            est_key = list_key[label[g][i]]\n",
    "            correct_gen += mir_eval.key.weighted_score(ref_key, est_key)\n",
    "            pieces_gen += 1\n",
    "        \n",
    "    correct_all += correct_gen\n",
    "    pieces_all += pieces_gen\n",
    "    print('{:<20}'.format(g + ' new ACC: ') + str(correct_gen/pieces_gen))        "
   ]
  },
  {
   "cell_type": "code",
   "execution_count": 111,
   "metadata": {},
   "outputs": [
    {
     "name": "stdout",
     "output_type": "stream",
     "text": [
      "overall new ACC:    0.31529271206690557\n"
     ]
    }
   ],
   "source": [
    "print('{:<20}'.format('overall new ACC: ') + str(correct_all/pieces_all))   "
   ]
  },
  {
   "cell_type": "markdown",
   "metadata": {},
   "source": [
    "# Task2_Q4-1"
   ]
  },
  {
   "cell_type": "markdown",
   "metadata": {},
   "source": [
    "## GiantSteps"
   ]
  },
  {
   "cell_type": "code",
   "execution_count": 144,
   "metadata": {},
   "outputs": [],
   "source": [
    "music_giant_ks = []\n",
    "label_giant_ks = []\n",
    "pieces_all = 0\n",
    "correct_all = 0\n",
    "\n",
    "for file in os.listdir('giantsteps/audio/'):\n",
    "    if file.endswith('.wav'):\n",
    "        f = open(('giantsteps/annotations/key/' + file).replace('wav', 'key'), 'r')\n",
    "        key = index_key[f.read()]\n",
    "        \n",
    "        y, sr = librosa.load('giantsteps/audio/' + file)\n",
    "        chroma = librosa.feature.chroma_stft(y=y, sr=sr)\n",
    "        x = []\n",
    "        R_max = -1\n",
    "        for z in chroma:\n",
    "            x.append(sum(z))\n",
    "        for j in range(24):\n",
    "            R = scipy.stats.pearsonr(x, KS_key[j])[0]\n",
    "            if R > R_max:\n",
    "                R_max = R\n",
    "                music_key = j\n",
    "        \n",
    "        f = open(('giantsteps/annotations/key/' + file).replace('wav', 'key'), 'r')\n",
    "        label_key = index_key[f.read()]\n",
    "        f.close()\n",
    "\n",
    "        pieces_all += 1\n",
    "        if music_key == label_key:\n",
    "            correct_all += 1\n",
    "                \n",
    "        music_giant_ks.append(music_key)\n",
    "        label_giant_ks.append(label_key)"
   ]
  },
  {
   "cell_type": "code",
   "execution_count": 145,
   "metadata": {},
   "outputs": [
    {
     "name": "stdout",
     "output_type": "stream",
     "text": [
      "giantsteps K-S ACC: 0.4257095158597663\n"
     ]
    }
   ],
   "source": [
    "print('giantsteps K-S ACC: ' + str(correct_all/pieces_all))"
   ]
  },
  {
   "cell_type": "markdown",
   "metadata": {},
   "source": [
    "## GTZAN"
   ]
  },
  {
   "cell_type": "code",
   "execution_count": 146,
   "metadata": {},
   "outputs": [
    {
     "name": "stdout",
     "output_type": "stream",
     "text": [
      "blues K-S ACC:      0.19387755102040816\n",
      "country K-S ACC:    0.494949494949495\n",
      "disco K-S ACC:      0.3469387755102041\n",
      "hiphop K-S ACC:     0.18518518518518517\n",
      "jazz K-S ACC:       0.2911392405063291\n",
      "metal K-S ACC:      0.34408602150537637\n",
      "pop K-S ACC:        0.5851063829787234\n",
      "reggae K-S ACC:     0.5773195876288659\n",
      "rock K-S ACC:       0.42857142857142855\n"
     ]
    }
   ],
   "source": [
    "music_ks = {}\n",
    "label_ks = {}\n",
    "pieces_all = 0\n",
    "correct_all = 0\n",
    "\n",
    "for g in genre:\n",
    "    pieces_gen = 0\n",
    "    correct_gen = 0\n",
    "    music_ks[g] = []\n",
    "    label_ks[g] = []\n",
    "    for i in range(100):\n",
    "        wav = 'GTZAN_wav/' + g + '/' + g + '.' + str(i).zfill(5) + '.wav'\n",
    "        txt =  'gtzan_key/genres/' + g + '/' + g + '.' + str(i).zfill(5) + '.lerch.txt'\n",
    "\n",
    "        y, sr = librosa.load(wav)\n",
    "        chroma = librosa.feature.chroma_stft(y=y, sr=sr)\n",
    "        x = []\n",
    "        R_max = -1\n",
    "        for z in chroma:\n",
    "            x.append(sum(z))\n",
    "        for j in range(24):\n",
    "            R = scipy.stats.pearsonr(x, KS_key[j])[0]\n",
    "            if R > R_max:\n",
    "                R_max = R\n",
    "                music_key = j\n",
    "\n",
    "        f = open(txt, 'r');\n",
    "        label_key = int(f.read())\n",
    "        f.close()\n",
    "\n",
    "        if label_key >= 0:\n",
    "            pieces_gen += 1\n",
    "            if music_key == label_key:\n",
    "                correct_gen += 1\n",
    "                \n",
    "        music_ks[g].append(music_key)\n",
    "        label_ks[g].append(label_key)\n",
    "\n",
    "    pieces_all += pieces_gen\n",
    "    correct_all += correct_gen\n",
    "    print('{:<20}'.format(g + ' K-S ACC: ') + str(correct_gen/pieces_gen))"
   ]
  },
  {
   "cell_type": "code",
   "execution_count": 147,
   "metadata": {},
   "outputs": [
    {
     "name": "stdout",
     "output_type": "stream",
     "text": [
      "overall K-S ACC:    0.38829151732377537\n"
     ]
    }
   ],
   "source": [
    "print('{:<20}'.format('overall K-S ACC: ') + str(correct_all/pieces_all))"
   ]
  },
  {
   "cell_type": "markdown",
   "metadata": {},
   "source": [
    "# Task2_Q4-2"
   ]
  },
  {
   "cell_type": "code",
   "execution_count": 155,
   "metadata": {},
   "outputs": [],
   "source": [
    "def task2_giant_q2(gamma):\n",
    "    \n",
    "    music_giant2_q2 = []\n",
    "    label_giant2_q2 = []\n",
    "    pieces_all = 0\n",
    "    correct_all = 0\n",
    "    \n",
    "    for file in os.listdir('giantsteps/audio/'):\n",
    "        if file.endswith('.wav'):\n",
    "            f = open(('giantsteps/annotations/key/' + file).replace('wav', 'key'), 'r')\n",
    "            key = index_key[f.read()]\n",
    "\n",
    "            y, sr = librosa.load('giantsteps/audio/' + file)\n",
    "            chroma = librosa.feature.chroma_stft(y=y, sr=sr)\n",
    "            x = []\n",
    "            R_max = -1\n",
    "            for z in chroma:\n",
    "                for i in range(len(z)):\n",
    "                    z[i] = math.log(1 + gamma*abs(z[i]))\n",
    "                x.append(sum(z))\n",
    "                \n",
    "            for j in range(24):\n",
    "                R = scipy.stats.pearsonr(x, KS_key[j])[0]\n",
    "                if R > R_max:\n",
    "                    R_max = R\n",
    "                    music_key = j\n",
    "\n",
    "            f = open(('giantsteps/annotations/key/' + file).replace('wav', 'key'), 'r')\n",
    "            label_key = index_key[f.read()]\n",
    "            f.close()\n",
    "\n",
    "            pieces_all += 1\n",
    "            if music_key == label_key:\n",
    "                correct_all += 1\n",
    "\n",
    "            music_giant2_q2.append(music_key)\n",
    "            label_giant2_q2.append(label_key)\n",
    "            \n",
    "    return correct_all/pieces_all"
   ]
  },
  {
   "cell_type": "code",
   "execution_count": 158,
   "metadata": {},
   "outputs": [
    {
     "name": "stdout",
     "output_type": "stream",
     "text": [
      "gamma = 1.0, giantsteps K-S ACC: 0.4240400667779633\n",
      "gamma = 10.0, giantsteps K-S ACC: 0.3973288814691152\n",
      "gamma = 100.0, giantsteps K-S ACC: 0.3772954924874791\n",
      "gamma = 1000.0, giantsteps K-S ACC: 0.3789649415692821\n"
     ]
    }
   ],
   "source": [
    "for i in range(4):\n",
    "    gamma = math.pow(10, i)\n",
    "    ACC = task2_giant_q2(gamma)\n",
    "    print('gamma = ' + str(gamma) + ', giantsteps K-S ACC: ' + str(ACC))"
   ]
  },
  {
   "cell_type": "code",
   "execution_count": 156,
   "metadata": {},
   "outputs": [],
   "source": [
    "def task2_gtzan_q2(gamma):\n",
    "\n",
    "    music2_q2 = {}\n",
    "    label2_q2 = {}\n",
    "    pieces_all = 0\n",
    "    correct_all = 0\n",
    "\n",
    "    for g in genre:\n",
    "        pieces_gen = 0\n",
    "        correct_gen = 0\n",
    "        music2_q2[g] = []\n",
    "        label2_q2[g] = []\n",
    "        for i in range(100):\n",
    "            wav = 'GTZAN_wav/' + g + '/' + g + '.' + str(i).zfill(5) + '.wav'\n",
    "            txt =  'gtzan_key/genres/' + g + '/' + g + '.' + str(i).zfill(5) + '.lerch.txt'\n",
    "\n",
    "            y, sr = librosa.load(wav)\n",
    "            chroma = librosa.feature.chroma_stft(y=y, sr=sr)\n",
    "            x = []\n",
    "            R_max = -1\n",
    "            for z in chroma:\n",
    "                for i in range(len(z)):\n",
    "                    z[i] = math.log(1 + gamma*abs(z[i]))\n",
    "                x.append(sum(z))\n",
    "                \n",
    "            for j in range(24):\n",
    "                R = scipy.stats.pearsonr(x, KS_key[j])[0]\n",
    "                if R > R_max:\n",
    "                    R_max = R\n",
    "                    music_key = j\n",
    "\n",
    "            f = open(txt, 'r');\n",
    "            label_key = int(f.read())\n",
    "            f.close()\n",
    "\n",
    "            if label_key >= 0:\n",
    "                pieces_gen += 1\n",
    "                if music_key == label_key:\n",
    "                    correct_gen += 1\n",
    "\n",
    "            music2_q2[g].append(music_key)\n",
    "            label2_q2[g].append(label_key)\n",
    "\n",
    "        pieces_all += pieces_gen\n",
    "        correct_all += correct_gen\n",
    "        print('{:<35}'.format('gamma = ' + str(gamma) + ', ' + g + ' K-S ACC: ') + str(correct_gen/pieces_gen))\n",
    "        \n",
    "    return correct_all/pieces_all"
   ]
  },
  {
   "cell_type": "code",
   "execution_count": 157,
   "metadata": {},
   "outputs": [
    {
     "name": "stdout",
     "output_type": "stream",
     "text": [
      "gamma = 1.0, blues K-S ACC:        0.1836734693877551\n",
      "gamma = 1.0, country K-S ACC:      0.48484848484848486\n",
      "gamma = 1.0, disco K-S ACC:        0.37755102040816324\n",
      "gamma = 1.0, hiphop K-S ACC:       0.1728395061728395\n",
      "gamma = 1.0, jazz K-S ACC:         0.26582278481012656\n",
      "gamma = 1.0, metal K-S ACC:        0.3333333333333333\n",
      "gamma = 1.0, pop K-S ACC:          0.5531914893617021\n",
      "gamma = 1.0, reggae K-S ACC:       0.5567010309278351\n",
      "gamma = 1.0, rock K-S ACC:         0.41836734693877553\n",
      "gamma = 1.0, overall K-S ACC:      0.37753882915173237\n",
      "gamma = 10.0, blues K-S ACC:       0.19387755102040816\n",
      "gamma = 10.0, country K-S ACC:     0.4444444444444444\n",
      "gamma = 10.0, disco K-S ACC:       0.35714285714285715\n",
      "gamma = 10.0, hiphop K-S ACC:      0.1728395061728395\n",
      "gamma = 10.0, jazz K-S ACC:        0.24050632911392406\n",
      "gamma = 10.0, metal K-S ACC:       0.27956989247311825\n",
      "gamma = 10.0, pop K-S ACC:         0.5319148936170213\n",
      "gamma = 10.0, reggae K-S ACC:      0.4948453608247423\n",
      "gamma = 10.0, rock K-S ACC:        0.3979591836734694\n",
      "gamma = 10.0, overall K-S ACC:     0.35125448028673834\n",
      "gamma = 100.0, blues K-S ACC:      0.20408163265306123\n",
      "gamma = 100.0, country K-S ACC:    0.3939393939393939\n",
      "gamma = 100.0, disco K-S ACC:      0.3163265306122449\n",
      "gamma = 100.0, hiphop K-S ACC:     0.1728395061728395\n",
      "gamma = 100.0, jazz K-S ACC:       0.189873417721519\n",
      "gamma = 100.0, metal K-S ACC:      0.27956989247311825\n",
      "gamma = 100.0, pop K-S ACC:        0.5319148936170213\n",
      "gamma = 100.0, reggae K-S ACC:     0.3917525773195876\n",
      "gamma = 100.0, rock K-S ACC:       0.35714285714285715\n",
      "gamma = 100.0, overall K-S ACC:    0.3201911589008363\n",
      "gamma = 1000.0, blues K-S ACC:     0.20408163265306123\n",
      "gamma = 1000.0, country K-S ACC:   0.3838383838383838\n",
      "gamma = 1000.0, disco K-S ACC:     0.3163265306122449\n",
      "gamma = 1000.0, hiphop K-S ACC:    0.1728395061728395\n",
      "gamma = 1000.0, jazz K-S ACC:      0.189873417721519\n",
      "gamma = 1000.0, metal K-S ACC:     0.25806451612903225\n",
      "gamma = 1000.0, pop K-S ACC:       0.5319148936170213\n",
      "gamma = 1000.0, reggae K-S ACC:    0.3917525773195876\n",
      "gamma = 1000.0, rock K-S ACC:      0.3469387755102041\n",
      "gamma = 1000.0, overall K-S ACC:   0.3154121863799283\n"
     ]
    }
   ],
   "source": [
    "for i in range(4):\n",
    "    gamma = math.pow(10, i)\n",
    "    ACC = task2_gtzan_q2(gamma)\n",
    "    print('{:<35}'.format('gamma = ' + str(gamma) + ', overall K-S ACC: ') + str(ACC))"
   ]
  },
  {
   "cell_type": "markdown",
   "metadata": {},
   "source": [
    "# Task2_Q4-3\n",
    "## GiantSteps"
   ]
  },
  {
   "cell_type": "code",
   "execution_count": 148,
   "metadata": {},
   "outputs": [],
   "source": [
    "pieces_all = 0\n",
    "correct_all = 0\n",
    "\n",
    "for i in range(len(music_giant_ks)):\n",
    "    ref_key = list_key[music_giant_ks[i]]\n",
    "    est_key = list_key[label_giant_ks[i]]\n",
    "    correct_all += mir_eval.key.weighted_score(ref_key, est_key)\n",
    "    pieces_all += 1"
   ]
  },
  {
   "cell_type": "code",
   "execution_count": 149,
   "metadata": {},
   "outputs": [
    {
     "name": "stdout",
     "output_type": "stream",
     "text": [
      "giantsteps new K-S ACC: 0.4662771285475789\n"
     ]
    }
   ],
   "source": [
    "print('giantsteps new K-S ACC: ' + str(correct_all/pieces_all))"
   ]
  },
  {
   "cell_type": "markdown",
   "metadata": {},
   "source": [
    "## GTZAN"
   ]
  },
  {
   "cell_type": "code",
   "execution_count": 150,
   "metadata": {},
   "outputs": [
    {
     "name": "stdout",
     "output_type": "stream",
     "text": [
      "blues new K-S ACC:       0.29489795918367323\n",
      "country new K-S ACC:     0.5141414141414141\n",
      "disco new K-S ACC:       0.4204081632653063\n",
      "hiphop new K-S ACC:      0.24444444444444446\n",
      "jazz new K-S ACC:        0.3556962025316456\n",
      "metal new K-S ACC:       0.41397849462365593\n",
      "pop new K-S ACC:         0.6202127659574468\n",
      "reggae new K-S ACC:      0.5907216494845361\n",
      "rock new K-S ACC:        0.4765306122448979\n"
     ]
    }
   ],
   "source": [
    "pieces_all = 0\n",
    "correct_all = 0\n",
    "\n",
    "for g in genre:\n",
    "    pieces_gen = 0\n",
    "    correct_gen = 0\n",
    "    for i in range(100):\n",
    "        if label_ks[g][i] >= 0:\n",
    "            ref_key = list_key[music_ks[g][i]]\n",
    "            est_key = list_key[label_ks[g][i]]\n",
    "            correct_gen += mir_eval.key.weighted_score(ref_key, est_key)\n",
    "            pieces_gen += 1\n",
    "        \n",
    "    correct_all += correct_gen\n",
    "    pieces_all += pieces_gen\n",
    "    print('{:<25}'.format(g + ' new K-S ACC: ') + str(correct_gen/pieces_gen))        "
   ]
  },
  {
   "cell_type": "code",
   "execution_count": 151,
   "metadata": {},
   "outputs": [
    {
     "name": "stdout",
     "output_type": "stream",
     "text": [
      "overall new K-S ACC:     0.4416965352449223\n"
     ]
    }
   ],
   "source": [
    "print('{:<25}'.format('overall new K-S ACC: ') + str(correct_all/pieces_all))"
   ]
  },
  {
   "cell_type": "markdown",
   "metadata": {},
   "source": [
    "# Task3_Q5\n",
    "## BPS-FH"
   ]
  },
  {
   "cell_type": "code",
   "execution_count": 46,
   "metadata": {},
   "outputs": [
    {
     "name": "stdout",
     "output_type": "stream",
     "text": [
      "1.wav ACC:          0.38721804511278196\n",
      "1.wav new ACC:      0.4107769423558898\n",
      "11.wav ACC:         0.5909943714821764\n",
      "11.wav new ACC:     0.6265478424014984\n",
      "12.wav ACC:         0.35365853658536583\n",
      "12.wav new ACC:     0.3890243902439026\n",
      "13.wav ACC:         0.37948717948717947\n",
      "13.wav new ACC:     0.38358974358974357\n",
      "14.wav ACC:         0.34782608695652173\n",
      "14.wav new ACC:     0.4184782608695657\n",
      "16.wav ACC:         0.2727272727272727\n",
      "16.wav new ACC:     0.2922899884925202\n",
      "18.wav ACC:         0.6307541625857003\n",
      "18.wav new ACC:     0.6938295788442705\n",
      "19.wav ACC:         0.7333333333333333\n",
      "19.wav new ACC:     0.7656140350877191\n",
      "20.wav ACC:         0.5266955266955267\n",
      "20.wav new ACC:     0.528138528138528\n",
      "21.wav ACC:         0.3119741100323625\n",
      "21.wav new ACC:     0.36336569579288064\n",
      "22.wav ACC:         0.39045553145336226\n",
      "22.wav new ACC:     0.43731019522776643\n",
      "23.wav ACC:         0.2498410680228862\n",
      "23.wav new ACC:     0.2867768595041325\n",
      "24.wav ACC:         0.5116851168511685\n",
      "24.wav new ACC:     0.5365313653136531\n",
      "25.wav ACC:         0.4228007181328546\n",
      "25.wav new ACC:     0.4418312387791743\n",
      "26.wav ACC:         0.37259816207184626\n",
      "26.wav new ACC:     0.4106934001670843\n",
      "27.wav ACC:         0.4877384196185286\n",
      "27.wav new ACC:     0.5388283378746601\n",
      "28.wav ACC:         0.35294117647058826\n",
      "28.wav new ACC:     0.37908496732026137\n",
      "3.wav ACC:          0.41744772891131937\n",
      "3.wav new ACC:      0.42941600576784517\n",
      "31.wav ACC:         0.5478260869565217\n",
      "31.wav new ACC:     0.5513043478260871\n",
      "32.wav ACC:         0.4569377990430622\n",
      "32.wav new ACC:     0.48863636363636287\n",
      "5.wav ACC:          0.4776247848537005\n",
      "5.wav new ACC:      0.5121342512908792\n",
      "6.wav ACC:          0.4448574969021066\n",
      "6.wav new ACC:      0.45997521685254034\n",
      "8.wav ACC:          0.48053457292271934\n",
      "8.wav new ACC:      0.5340499709471237\n"
     ]
    }
   ],
   "source": [
    "pieces_all = 0\n",
    "correct_all = 0\n",
    "correct_new_all = 0\n",
    "\n",
    "for file in os.listdir('BPS/audio/'):\n",
    "    \n",
    "    y, sr = librosa.load('BPS/audio/' + file)\n",
    "\n",
    "    label_bps = []\n",
    "    f = open('BPS/label/REF_key_' + file.replace('wav', 'txt'), 'r')\n",
    "    for line in f.read().split('\\n'):\n",
    "        line = line.split('\\t')\n",
    "        if len(line) > 1:\n",
    "            label_bps.append(index_key2[line[1]])\n",
    "    f.close()\n",
    "\n",
    "    pieces_gen = 0\n",
    "    correct_gen = 0\n",
    "    correct_new_gen = 0\n",
    "    \n",
    "    for i in range(math.floor(len(y)/sr)):\n",
    "        if i < 15:\n",
    "            start = 0\n",
    "            end = (i+15) * sr\n",
    "        elif i > math.floor(len(y)/sr)-15:\n",
    "            start = (i-15) * sr\n",
    "            end = math.floor(len(y)/sr) * sr\n",
    "        else:\n",
    "            start = (i-15) * sr\n",
    "            end = (i+15) * sr\n",
    "\n",
    "        chroma = librosa.feature.chroma_stft(y=y[start:end], sr=sr)\n",
    "        x = []\n",
    "        for z in chroma:\n",
    "            x.append(sum(z))\n",
    "\n",
    "        R_max = -1\n",
    "        for j in range(24):\n",
    "            R = scipy.stats.pearsonr(x, KS_key[j])[0]\n",
    "            if R > R_max:\n",
    "                R_max = R\n",
    "                music_key = j\n",
    "\n",
    "        pieces_gen += 1\n",
    "        if music_key == label_bps[i]:\n",
    "            correct_gen += 1\n",
    "            \n",
    "        ref_key = list_key[music_key]\n",
    "        est_key = list_key[label_bps[i]]\n",
    "        correct_new_gen += mir_eval.key.weighted_score(ref_key, est_key)\n",
    "            \n",
    "    pieces_all += pieces_gen\n",
    "    correct_all += correct_gen\n",
    "    correct_new_all += correct_new_gen\n",
    "    \n",
    "    print('{:<20}'.format(file + ' ACC: ') + str(correct_gen/pieces_gen))\n",
    "    print('{:<20}'.format(file + ' new ACC: ') + str(correct_new_gen/pieces_gen))"
   ]
  },
  {
   "cell_type": "code",
   "execution_count": 47,
   "metadata": {},
   "outputs": [
    {
     "name": "stdout",
     "output_type": "stream",
     "text": [
      "BPS-FH overall ACC: 0.43083084097936836\n",
      "BPS-FH overall new ACC: 0.46435342424088816\n"
     ]
    }
   ],
   "source": [
    "print('BPS-FH overall ACC: ' + str(correct_all/pieces_all))\n",
    "print('BPS-FH overall new ACC: ' + str(correct_new_all/pieces_all))"
   ]
  },
  {
   "cell_type": "markdown",
   "metadata": {},
   "source": [
    "## A-MAPS"
   ]
  },
  {
   "cell_type": "code",
   "execution_count": 106,
   "metadata": {},
   "outputs": [],
   "source": [
    "pieces_all = 0\n",
    "correct_all = 0\n",
    "correct_new_all = 0\n",
    "\n",
    "for file in os.listdir('A-MAPS/'):\n",
    "    \n",
    "    midi_data = pretty_midi.PrettyMIDI('A-MAPS/' + file)\n",
    "    chroma = pretty_midi.Instrument.get_chroma(midi_data)\n",
    "    key_time = midi_data.key_signature_changes\n",
    "    end_time = midi_data.get_end_time()\n",
    "\n",
    "    label_amaps = []\n",
    "    key_num = -1\n",
    "    start = 0\n",
    "\n",
    "    for key in key_time:\n",
    "        for i in range(math.floor(key.time)-start):\n",
    "            label_amaps.append(key_num)\n",
    "        start = math.floor(key.time)\n",
    "        if key.key_number < 12:\n",
    "            key_num = (key.key_number+3)%12\n",
    "        else:\n",
    "            key_num = (key.key_number+3)%12 + 12\n",
    "\n",
    "    for i in range(math.floor(end_time)-start):\n",
    "        label_amaps.append(key_num)\n",
    "\n",
    "    pieces_gen = 0\n",
    "    correct_gen = 0\n",
    "    correct_new_gen = 0\n",
    "\n",
    "    for i in range(math.floor(end_time)):    \n",
    "        if i < 15:\n",
    "            start = 0\n",
    "            end = (i+15) * 100\n",
    "        elif i > math.floor(end_time)-15:\n",
    "            start = (i-15) * 100\n",
    "            end = math.floor(end_time) * 100\n",
    "        else:\n",
    "            start = (i-15) * 100\n",
    "            end = (i+15) * 100\n",
    "\n",
    "        x = []\n",
    "        for z in chroma:\n",
    "            x.append(sum(z[start:end]))\n",
    "\n",
    "        R_max = -1\n",
    "        for j in range(24):\n",
    "            R = scipy.stats.pearsonr(x, KS_key[j])[0]\n",
    "            if R > R_max:\n",
    "                R_max = R\n",
    "                music_key = j\n",
    "\n",
    "        pieces_gen += 1\n",
    "        if music_key == label_amaps[i]:\n",
    "            correct_gen += 1\n",
    "\n",
    "        ref_key = list_key[music_key]\n",
    "        est_key = list_key[label_amaps[i]]\n",
    "        correct_new_gen += mir_eval.key.weighted_score(ref_key, est_key)\n",
    "\n",
    "    pieces_all += pieces_gen\n",
    "    correct_all += correct_gen\n",
    "    correct_new_all += correct_new_gen"
   ]
  },
  {
   "cell_type": "code",
   "execution_count": 107,
   "metadata": {},
   "outputs": [
    {
     "name": "stdout",
     "output_type": "stream",
     "text": [
      "A-MAPS overall ACC: 0.35838773151763126\n",
      "A-MAPS overall new ACC: 0.4331136583689918\n"
     ]
    }
   ],
   "source": [
    "print('A-MAPS overall ACC: ' + str(correct_all/pieces_all))\n",
    "print('A-MAPS overall new ACC: ' + str(correct_new_all/pieces_all))"
   ]
  }
 ],
 "metadata": {
  "kernelspec": {
   "display_name": "Python 3",
   "language": "python",
   "name": "python3"
  },
  "language_info": {
   "codemirror_mode": {
    "name": "ipython",
    "version": 3
   },
   "file_extension": ".py",
   "mimetype": "text/x-python",
   "name": "python",
   "nbconvert_exporter": "python",
   "pygments_lexer": "ipython3",
   "version": "3.7.0"
  }
 },
 "nbformat": 4,
 "nbformat_minor": 4
}
