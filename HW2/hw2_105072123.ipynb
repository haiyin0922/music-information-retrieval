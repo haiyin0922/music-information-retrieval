{
 "cells": [
  {
   "cell_type": "markdown",
   "metadata": {},
   "source": [
    "# HW2\n",
    "## 105072123 黃海茵"
   ]
  },
  {
   "cell_type": "code",
   "execution_count": 3,
   "metadata": {},
   "outputs": [],
   "source": [
    "import librosa\n",
    "import mir_eval\n",
    "import os\n",
    "import re\n",
    "import numpy"
   ]
  },
  {
   "cell_type": "code",
   "execution_count": 4,
   "metadata": {},
   "outputs": [],
   "source": [
    "def P_score(T1, T2, S1, G):\n",
    "    if abs((G-T1)/G) <= 0.08:\n",
    "        Tt1 = 1\n",
    "    else:\n",
    "        Tt1 = 0\n",
    "    if abs((G-T2)/G) <= 0.08:\n",
    "        Tt2 = 1\n",
    "    else:\n",
    "        Tt2 = 0\n",
    "    P = S1 * Tt1 + (1-S1) * Tt2\n",
    "    \n",
    "    return P"
   ]
  },
  {
   "cell_type": "code",
   "execution_count": 5,
   "metadata": {},
   "outputs": [],
   "source": [
    "def ALOTC_score(T1, T2, G):\n",
    "    if abs((G-T1)/G) <= 0.08 or abs((G-T2)/G) <= 0.08:\n",
    "        return 1\n",
    "    else:\n",
    "        return 0"
   ]
  },
  {
   "cell_type": "code",
   "execution_count": 6,
   "metadata": {},
   "outputs": [],
   "source": [
    "genre = ['ChaCha', 'Jive', 'Quickstep', 'Rumba', 'Samba', 'Tango', 'Viennese waltz', 'Waltz']"
   ]
  },
  {
   "cell_type": "markdown",
   "metadata": {},
   "source": [
    "# Q1 - autocorrelation tempogram"
   ]
  },
  {
   "cell_type": "code",
   "execution_count": 5,
   "metadata": {},
   "outputs": [
    {
     "name": "stdout",
     "output_type": "stream",
     "text": [
      "ChaCha          | P-score 0.53       | ALOTC-score 0.81      \n",
      "Jive            | P-score 0.39       | ALOTC-score 0.55      \n",
      "Quickstep       | P-score 0.39       | ALOTC-score 0.5       \n",
      "Rumba           | P-score 0.42       | ALOTC-score 0.78      \n",
      "Samba           | P-score 0.3        | ALOTC-score 0.55      \n",
      "Tango           | P-score 0.5        | ALOTC-score 0.67      \n",
      "Viennese waltz  | P-score 0.5        | ALOTC-score 0.6       \n",
      "Waltz           | P-score 0.37       | ALOTC-score 0.56      \n"
     ]
    }
   ],
   "source": [
    "auto = {}\n",
    "\n",
    "for g in genre:\n",
    "    auto[g] = []\n",
    "    P = []\n",
    "    ALOTC = []\n",
    "    for file in os.listdir('Ballroom/BallroomData/' + g + '/'):\n",
    "        y, sr = librosa.load('Ballroom/BallroomData/' + g + '/' + file)\n",
    "        oenv = librosa.onset.onset_strength(y=y, sr=sr)\n",
    "        tempogram = librosa.feature.tempogram(onset_envelope=oenv, sr=sr)\n",
    "        ac_global = librosa.autocorrelate(oenv, max_size=tempogram.shape[0])\n",
    "        ac_global = librosa.util.normalize(ac_global)\n",
    "        freq = librosa.tempo_frequencies(n_bins=384, sr=sr)\n",
    "        \n",
    "        idx = 0\n",
    "        ac = []\n",
    "        for num in ac_global:\n",
    "            ac.append((num, idx))\n",
    "            idx += 1\n",
    "            \n",
    "        ac = sorted(ac, reverse=True)\n",
    "        T = []\n",
    "        i = 0\n",
    "        for i in range(384):\n",
    "            if freq[ac[i][1]] < 300 and freq[ac[i][1]] > 30:\n",
    "                T.append(freq[ac[i][1]])\n",
    "                if len(T) == 2:\n",
    "                    break\n",
    "        \n",
    "        G = open(('Ballroom/BallroomAnnotations/ballroomGroundTruth/' + file).replace('wav', 'bpm'), 'r')\n",
    "        G = int(G.read().replace('\\n', ''))\n",
    "        S1 = T[0] / (T[0]+T[1])\n",
    "        \n",
    "        auto[g].append((T[0], T[1], S1, G))\n",
    "        P.append(P_score(T[0], T[1], S1, G))\n",
    "        ALOTC.append(ALOTC_score(T[0], T[1], G))\n",
    "    \n",
    "    Pscore = round(sum(P)/len(P), 2)\n",
    "    ALOTCscore = round(sum(ALOTC)/len(ALOTC), 2)\n",
    "    \n",
    "    print('{:<15} | P-score {:<10} | ALOTC-score {:<10}'.format(g, Pscore, ALOTCscore))"
   ]
  },
  {
   "cell_type": "markdown",
   "metadata": {},
   "source": [
    "## Q1 - Fourier tempogram"
   ]
  },
  {
   "cell_type": "code",
   "execution_count": 6,
   "metadata": {},
   "outputs": [
    {
     "name": "stdout",
     "output_type": "stream",
     "text": [
      "ChaCha          | P-score 0.04       | ALOTC-score 0.09      \n",
      "Jive            | P-score 0.02       | ALOTC-score 0.05      \n",
      "Quickstep       | P-score 0.0        | ALOTC-score 0.0       \n",
      "Rumba           | P-score 0.05       | ALOTC-score 0.11      \n",
      "Samba           | P-score 0.01       | ALOTC-score 0.01      \n",
      "Tango           | P-score 0.35       | ALOTC-score 0.64      \n",
      "Viennese waltz  | P-score 0.01       | ALOTC-score 0.02      \n",
      "Waltz           | P-score 0.04       | ALOTC-score 0.07      \n"
     ]
    }
   ],
   "source": [
    "four = {}\n",
    "\n",
    "for g in genre:\n",
    "    four[g] = []\n",
    "    P = []\n",
    "    ALOTC = []\n",
    "    for file in os.listdir('Ballroom/BallroomData/' + g + '/'):\n",
    "        y, sr = librosa.load('Ballroom/BallroomData/' + g + '/' + file)\n",
    "        oenv = librosa.onset.onset_strength(y=y, sr=sr)\n",
    "        tempogram = librosa.feature.fourier_tempogram(onset_envelope=oenv, sr=sr)\n",
    "        ac_global = librosa.autocorrelate(oenv, max_size=tempogram.shape[0])\n",
    "        ac_global = librosa.util.normalize(ac_global)\n",
    "        freq = librosa.fourier_tempo_frequencies(sr=sr)\n",
    "        \n",
    "        idx = 0\n",
    "        ac = []\n",
    "        for num in ac_global:\n",
    "            ac.append((num, idx))\n",
    "            idx += 1\n",
    "            \n",
    "        ac = sorted(ac, reverse=True)\n",
    "        T = []\n",
    "        i = 0\n",
    "        for i in range(384):\n",
    "            if freq[ac[i][1]] < 300 and freq[ac[i][1]] > 30:\n",
    "                T.append(freq[ac[i][1]])\n",
    "                if len(T) == 2:\n",
    "                    break\n",
    "        \n",
    "        G = open(('Ballroom/BallroomAnnotations/ballroomGroundTruth/' + file).replace('wav', 'bpm'), 'r')\n",
    "        G = int(G.read().replace('\\n', ''))\n",
    "        S1 = T[0] / (T[0]+T[1])\n",
    "        \n",
    "        four[g].append((T[0], T[1], S1, G))\n",
    "        P.append(P_score(T[0], T[1], S1, G))\n",
    "        ALOTC.append(ALOTC_score(T[0], T[1], G))\n",
    "    \n",
    "    Pscore = round(sum(P)/len(P), 2)\n",
    "    ALOTCscore = round(sum(ALOTC)/len(ALOTC), 2)\n",
    "    \n",
    "    print('{:<15} | P-score {:<10} | ALOTC-score {:<10}'.format(g, Pscore, ALOTCscore))"
   ]
  },
  {
   "cell_type": "markdown",
   "metadata": {},
   "source": [
    "# Q2 - autocorrelation tempogram"
   ]
  },
  {
   "cell_type": "code",
   "execution_count": 7,
   "metadata": {},
   "outputs": [],
   "source": [
    "def T_auto(times):\n",
    "    for g in genre:\n",
    "        P = []\n",
    "        for data in auto[g]:\n",
    "            P.append(P_score(data[0]*times, data[1]*times, data[2], data[3]))\n",
    "\n",
    "        Pscore = round(sum(P)/len(P), 2)\n",
    "\n",
    "        print('{:<15} | P-score {:<10}'.format(g, Pscore))\n",
    "    print('\\n')\n",
    "    \n",
    "    return"
   ]
  },
  {
   "cell_type": "code",
   "execution_count": 8,
   "metadata": {},
   "outputs": [
    {
     "name": "stdout",
     "output_type": "stream",
     "text": [
      "* use [T1/2, T2/2]\n",
      "ChaCha          | P-score 0.09      \n",
      "Jive            | P-score 0.0       \n",
      "Quickstep       | P-score 0.0       \n",
      "Rumba           | P-score 0.29      \n",
      "Samba           | P-score 0.32      \n",
      "Tango           | P-score 0.12      \n",
      "Viennese waltz  | P-score 0.0       \n",
      "Waltz           | P-score 0.43      \n",
      "\n",
      "\n",
      "* use [T1/3, T2/3]\n",
      "ChaCha          | P-score 0.0       \n",
      "Jive            | P-score 0.0       \n",
      "Quickstep       | P-score 0.0       \n",
      "Rumba           | P-score 0.0       \n",
      "Samba           | P-score 0.0       \n",
      "Tango           | P-score 0.0       \n",
      "Viennese waltz  | P-score 0.0       \n",
      "Waltz           | P-score 0.02      \n",
      "\n",
      "\n",
      "* use [T1*2, T2*2]\n",
      "ChaCha          | P-score 0.27      \n",
      "Jive            | P-score 0.42      \n",
      "Quickstep       | P-score 0.37      \n",
      "Rumba           | P-score 0.13      \n",
      "Samba           | P-score 0.22      \n",
      "Tango           | P-score 0.2       \n",
      "Viennese waltz  | P-score 0.03      \n",
      "Waltz           | P-score 0.03      \n",
      "\n",
      "\n",
      "* use [T1*3, T2*3]\n",
      "ChaCha          | P-score 0.01      \n",
      "Jive            | P-score 0.02      \n",
      "Quickstep       | P-score 0.07      \n",
      "Rumba           | P-score 0.01      \n",
      "Samba           | P-score 0.01      \n",
      "Tango           | P-score 0.01      \n",
      "Viennese waltz  | P-score 0.44      \n",
      "Waltz           | P-score 0.0       \n",
      "\n",
      "\n"
     ]
    }
   ],
   "source": [
    "print('* use [T1/2, T2/2]')\n",
    "T_auto(1/2)\n",
    "print('* use [T1/3, T2/3]')\n",
    "T_auto(1/3)\n",
    "print('* use [T1*2, T2*2]')\n",
    "T_auto(2)\n",
    "print('* use [T1*3, T2*3]')\n",
    "T_auto(3)"
   ]
  },
  {
   "cell_type": "markdown",
   "metadata": {},
   "source": [
    "# Q2 - Fourier tempogram"
   ]
  },
  {
   "cell_type": "code",
   "execution_count": 9,
   "metadata": {},
   "outputs": [],
   "source": [
    "def T_four(times):\n",
    "    for g in genre:\n",
    "        P = []\n",
    "        for data in four[g]:\n",
    "            P.append(P_score(data[0]*times, data[1]*times, data[2], data[3]))\n",
    "\n",
    "        Pscore = round(sum(P)/len(P), 2)\n",
    "\n",
    "        print('{:<15} | P-score {:<10}'.format(g, Pscore))\n",
    "    print('\\n')\n",
    "    \n",
    "    return"
   ]
  },
  {
   "cell_type": "code",
   "execution_count": 10,
   "metadata": {},
   "outputs": [
    {
     "name": "stdout",
     "output_type": "stream",
     "text": [
      "* use [T1/2, T2/2]\n",
      "ChaCha          | P-score 0.06      \n",
      "Jive            | P-score 0.05      \n",
      "Quickstep       | P-score 0.0       \n",
      "Rumba           | P-score 0.08      \n",
      "Samba           | P-score 0.06      \n",
      "Tango           | P-score 0.28      \n",
      "Viennese waltz  | P-score 0.0       \n",
      "Waltz           | P-score 0.0       \n",
      "\n",
      "\n",
      "* use [T1/3, T2/3]\n",
      "ChaCha          | P-score 0.01      \n",
      "Jive            | P-score 0.0       \n",
      "Quickstep       | P-score 0.0       \n",
      "Rumba           | P-score 0.08      \n",
      "Samba           | P-score 0.01      \n",
      "Tango           | P-score 0.0       \n",
      "Viennese waltz  | P-score 0.0       \n",
      "Waltz           | P-score 0.0       \n",
      "\n",
      "\n",
      "* use [T1*2, T2*2]\n",
      "ChaCha          | P-score 0.01      \n",
      "Jive            | P-score 0.02      \n",
      "Quickstep       | P-score 0.01      \n",
      "Rumba           | P-score 0.01      \n",
      "Samba           | P-score 0.0       \n",
      "Tango           | P-score 0.04      \n",
      "Viennese waltz  | P-score 0.16      \n",
      "Waltz           | P-score 0.04      \n",
      "\n",
      "\n",
      "* use [T1*3, T2*3]\n",
      "ChaCha          | P-score 0.0       \n",
      "Jive            | P-score 0.0       \n",
      "Quickstep       | P-score 0.0       \n",
      "Rumba           | P-score 0.0       \n",
      "Samba           | P-score 0.0       \n",
      "Tango           | P-score 0.0       \n",
      "Viennese waltz  | P-score 0.0       \n",
      "Waltz           | P-score 0.0       \n",
      "\n",
      "\n"
     ]
    }
   ],
   "source": [
    "print('* use [T1/2, T2/2]')\n",
    "T_four(1/2)\n",
    "print('* use [T1/3, T2/3]')\n",
    "T_four(1/3)\n",
    "print('* use [T1*2, T2*2]')\n",
    "T_four(2)\n",
    "print('* use [T1*3, T2*3]')\n",
    "T_four(3)"
   ]
  },
  {
   "cell_type": "markdown",
   "metadata": {},
   "source": [
    "# Q3 - autocorrelation tempogram"
   ]
  },
  {
   "cell_type": "code",
   "execution_count": 7,
   "metadata": {},
   "outputs": [],
   "source": [
    "def winlen_auto(s):\n",
    "    for g in genre:\n",
    "        P = []\n",
    "        ALOTC = []\n",
    "        for file in os.listdir('Ballroom/BallroomData/' + g + '/'):\n",
    "            y, sr = librosa.load('Ballroom/BallroomData/' + g + '/' + file)\n",
    "            wl = int(round(s * sr / 512, 0))\n",
    "            oenv = librosa.onset.onset_strength(y=y, sr=sr)\n",
    "            tempogram = librosa.feature.tempogram(onset_envelope=oenv, sr=sr, win_length=wl)\n",
    "            ac_global = librosa.autocorrelate(oenv, max_size=tempogram.shape[0])\n",
    "            ac_global = librosa.util.normalize(ac_global)\n",
    "            freq = librosa.tempo_frequencies(n_bins=wl, sr=sr)\n",
    "\n",
    "            idx = 0\n",
    "            ac = []\n",
    "            for num in ac_global:\n",
    "                ac.append((num, idx))\n",
    "                idx += 1\n",
    "\n",
    "            ac = sorted(ac, reverse=True)\n",
    "            T = []\n",
    "            i = 0\n",
    "            for i in range(384):\n",
    "                if freq[ac[i][1]] < 300 and freq[ac[i][1]] > 30:\n",
    "                    T.append(freq[ac[i][1]])\n",
    "                    if len(T) == 2:\n",
    "                        break\n",
    "\n",
    "            G = open(('Ballroom/BallroomAnnotations/ballroomGroundTruth/' + file).replace('wav', 'bpm'), 'r')\n",
    "            G = int(G.read().replace('\\n', ''))\n",
    "            ALOTC.append(ALOTC_score(T[0], T[1], G))\n",
    "\n",
    "        ALOTCscore = round(sum(ALOTC)/len(ALOTC), 2)\n",
    "\n",
    "        print('{:>2}s | {:<15} | ALOTC-score {:<10}'.format(s, g, ALOTCscore))\n",
    "    print('\\n')\n",
    "            \n",
    "    return"
   ]
  },
  {
   "cell_type": "code",
   "execution_count": 8,
   "metadata": {},
   "outputs": [
    {
     "name": "stdout",
     "output_type": "stream",
     "text": [
      " 4s | ChaCha          | ALOTC-score 0.81      \n",
      " 4s | Jive            | ALOTC-score 0.55      \n",
      " 4s | Quickstep       | ALOTC-score 0.5       \n",
      " 4s | Rumba           | ALOTC-score 0.78      \n",
      " 4s | Samba           | ALOTC-score 0.55      \n",
      " 4s | Tango           | ALOTC-score 0.67      \n",
      " 4s | Viennese waltz  | ALOTC-score 0.6       \n",
      " 4s | Waltz           | ALOTC-score 0.56      \n",
      "\n",
      "\n",
      " 6s | ChaCha          | ALOTC-score 0.81      \n",
      " 6s | Jive            | ALOTC-score 0.55      \n",
      " 6s | Quickstep       | ALOTC-score 0.5       \n",
      " 6s | Rumba           | ALOTC-score 0.78      \n",
      " 6s | Samba           | ALOTC-score 0.55      \n",
      " 6s | Tango           | ALOTC-score 0.67      \n",
      " 6s | Viennese waltz  | ALOTC-score 0.6       \n",
      " 6s | Waltz           | ALOTC-score 0.56      \n",
      "\n",
      "\n",
      " 8s | ChaCha          | ALOTC-score 0.81      \n",
      " 8s | Jive            | ALOTC-score 0.55      \n",
      " 8s | Quickstep       | ALOTC-score 0.5       \n",
      " 8s | Rumba           | ALOTC-score 0.78      \n",
      " 8s | Samba           | ALOTC-score 0.55      \n",
      " 8s | Tango           | ALOTC-score 0.67      \n",
      " 8s | Viennese waltz  | ALOTC-score 0.6       \n",
      " 8s | Waltz           | ALOTC-score 0.56      \n",
      "\n",
      "\n",
      "10s | ChaCha          | ALOTC-score 0.81      \n",
      "10s | Jive            | ALOTC-score 0.55      \n",
      "10s | Quickstep       | ALOTC-score 0.5       \n",
      "10s | Rumba           | ALOTC-score 0.78      \n",
      "10s | Samba           | ALOTC-score 0.55      \n",
      "10s | Tango           | ALOTC-score 0.67      \n",
      "10s | Viennese waltz  | ALOTC-score 0.6       \n",
      "10s | Waltz           | ALOTC-score 0.56      \n",
      "\n",
      "\n",
      "12s | ChaCha          | ALOTC-score 0.81      \n",
      "12s | Jive            | ALOTC-score 0.55      \n",
      "12s | Quickstep       | ALOTC-score 0.5       \n",
      "12s | Rumba           | ALOTC-score 0.78      \n",
      "12s | Samba           | ALOTC-score 0.55      \n",
      "12s | Tango           | ALOTC-score 0.67      \n",
      "12s | Viennese waltz  | ALOTC-score 0.6       \n",
      "12s | Waltz           | ALOTC-score 0.56      \n",
      "\n",
      "\n"
     ]
    }
   ],
   "source": [
    "for s in range(4, 14, 2):\n",
    "    winlen_auto(s)"
   ]
  },
  {
   "cell_type": "markdown",
   "metadata": {},
   "source": [
    "# Q3 - Fourier tempogram"
   ]
  },
  {
   "cell_type": "code",
   "execution_count": 9,
   "metadata": {},
   "outputs": [],
   "source": [
    "def winlen_four(s):\n",
    "    for g in genre:\n",
    "        P = []\n",
    "        ALOTC = []\n",
    "        for file in os.listdir('Ballroom/BallroomData/' + g + '/'):\n",
    "            y, sr = librosa.load('Ballroom/BallroomData/' + g + '/' + file)\n",
    "            wl = int(round(s * sr / 512, 0))\n",
    "            oenv = librosa.onset.onset_strength(y=y, sr=sr)\n",
    "            tempogram = librosa.feature.fourier_tempogram(onset_envelope=oenv, sr=sr, win_length=wl)\n",
    "            ac_global = librosa.autocorrelate(oenv, max_size=tempogram.shape[0])\n",
    "            ac_global = librosa.util.normalize(ac_global)\n",
    "            freq = librosa.fourier_tempo_frequencies(sr=sr, win_length=wl)\n",
    "\n",
    "            idx = 0\n",
    "            ac = []\n",
    "            for num in ac_global:\n",
    "                ac.append((num, idx))\n",
    "                idx += 1\n",
    "\n",
    "            ac = sorted(ac, reverse=True)\n",
    "            T = []\n",
    "            i = 0\n",
    "            for i in range(384):\n",
    "                if freq[ac[i][1]] < 300 and freq[ac[i][1]] > 30:\n",
    "                    T.append(freq[ac[i][1]])\n",
    "                    if len(T) == 2:\n",
    "                        break\n",
    "\n",
    "            G = open(('Ballroom/BallroomAnnotations/ballroomGroundTruth/' + file).replace('wav', 'bpm'), 'r')\n",
    "            G = int(G.read().replace('\\n', ''))\n",
    "            ALOTC.append(ALOTC_score(T[0], T[1], G))\n",
    "\n",
    "        ALOTCscore = round(sum(ALOTC)/len(ALOTC), 2)\n",
    "\n",
    "        print('{:>2}s | {:<15} | ALOTC-score {:<10}'.format(s, g, ALOTCscore))\n",
    "    print('\\n')\n",
    "    \n",
    "    return"
   ]
  },
  {
   "cell_type": "code",
   "execution_count": 10,
   "metadata": {},
   "outputs": [
    {
     "name": "stdout",
     "output_type": "stream",
     "text": [
      " 4s | ChaCha          | ALOTC-score 0.0       \n",
      " 4s | Jive            | ALOTC-score 0.0       \n",
      " 4s | Quickstep       | ALOTC-score 0.91      \n",
      " 4s | Rumba           | ALOTC-score 0.0       \n",
      " 4s | Samba           | ALOTC-score 0.03      \n",
      " 4s | Tango           | ALOTC-score 0.0       \n",
      " 4s | Viennese waltz  | ALOTC-score 0.0       \n",
      " 4s | Waltz           | ALOTC-score 0.05      \n",
      "\n",
      "\n",
      " 6s | ChaCha          | ALOTC-score 0.05      \n",
      " 6s | Jive            | ALOTC-score 0.45      \n",
      " 6s | Quickstep       | ALOTC-score 0.0       \n",
      " 6s | Rumba           | ALOTC-score 0.01      \n",
      " 6s | Samba           | ALOTC-score 0.02      \n",
      " 6s | Tango           | ALOTC-score 0.02      \n",
      " 6s | Viennese waltz  | ALOTC-score 0.05      \n",
      " 6s | Waltz           | ALOTC-score 0.02      \n",
      "\n",
      "\n",
      " 8s | ChaCha          | ALOTC-score 0.03      \n",
      " 8s | Jive            | ALOTC-score 0.07      \n",
      " 8s | Quickstep       | ALOTC-score 0.49      \n",
      " 8s | Rumba           | ALOTC-score 0.34      \n",
      " 8s | Samba           | ALOTC-score 0.51      \n",
      " 8s | Tango           | ALOTC-score 0.0       \n",
      " 8s | Viennese waltz  | ALOTC-score 0.03      \n",
      " 8s | Waltz           | ALOTC-score 0.02      \n",
      "\n",
      "\n",
      "10s | ChaCha          | ALOTC-score 0.76      \n",
      "10s | Jive            | ALOTC-score 0.62      \n",
      "10s | Quickstep       | ALOTC-score 0.02      \n",
      "10s | Rumba           | ALOTC-score 0.1       \n",
      "10s | Samba           | ALOTC-score 0.02      \n",
      "10s | Tango           | ALOTC-score 0.58      \n",
      "10s | Viennese waltz  | ALOTC-score 0.09      \n",
      "10s | Waltz           | ALOTC-score 0.49      \n",
      "\n",
      "\n",
      "12s | ChaCha          | ALOTC-score 0.07      \n",
      "12s | Jive            | ALOTC-score 0.2       \n",
      "12s | Quickstep       | ALOTC-score 0.09      \n",
      "12s | Rumba           | ALOTC-score 0.04      \n",
      "12s | Samba           | ALOTC-score 0.12      \n",
      "12s | Tango           | ALOTC-score 0.05      \n",
      "12s | Viennese waltz  | ALOTC-score 0.0       \n",
      "12s | Waltz           | ALOTC-score 0.21      \n",
      "\n",
      "\n"
     ]
    }
   ],
   "source": [
    "for s in range(4, 14, 2):\n",
    "    winlen_four(s)"
   ]
  },
  {
   "cell_type": "markdown",
   "metadata": {},
   "source": [
    "# Q4 -  Ballroom F-score"
   ]
  },
  {
   "cell_type": "code",
   "execution_count": 78,
   "metadata": {},
   "outputs": [
    {
     "name": "stderr",
     "output_type": "stream",
     "text": [
      "c:\\users\\user\\appdata\\local\\programs\\python\\python36\\lib\\site-packages\\mir_eval\\beat.py:91: UserWarning: Reference beats are empty.\n",
      "  warnings.warn(\"Reference beats are empty.\")\n"
     ]
    },
    {
     "name": "stdout",
     "output_type": "stream",
     "text": [
      "ChaCha          | F-score 0.9       \n",
      "Jive            | F-score 0.67      \n",
      "Quickstep       | F-score 0.62      \n",
      "Rumba           | F-score 0.8       \n",
      "Samba           | F-score 0.57      \n",
      "Tango           | F-score 0.8       \n",
      "Viennese waltz  | F-score 0.74      \n",
      "Waltz           | F-score 0.65      \n"
     ]
    }
   ],
   "source": [
    "for g in genre:\n",
    "    F = []\n",
    "    for file in os.listdir('Ballroom/BallroomData/' + g + '/'):\n",
    "        y, sr = librosa.load('Ballroom/BallroomData/' + g + '/' + file)\n",
    "        tempo, beats = librosa.beat.beat_track(y=y, sr=sr)\n",
    "        estimated = librosa.frames_to_time(beats, sr=sr)\n",
    "        \n",
    "        reference = open(('Ballroom/BallroomAnnotations-master/' + file).replace('wav', 'beats'), 'r').read()\n",
    "        reference = re.split(' 1\\n| 2\\n| 3\\n| 4\\n', reference)\n",
    "        reference.pop()\n",
    "        reference = numpy.array(list(map(eval, reference)))\n",
    "        \n",
    "        F.append(mir_eval.beat.f_measure(reference, estimated))\n",
    "    \n",
    "    Fscore = round(sum(F)/len(F), 2)\n",
    "    \n",
    "    print('{:<15} | F-score {:<10}'.format(g, Fscore))"
   ]
  },
  {
   "cell_type": "markdown",
   "metadata": {},
   "source": [
    "# Q5 - SMC"
   ]
  },
  {
   "cell_type": "code",
   "execution_count": 86,
   "metadata": {},
   "outputs": [
    {
     "name": "stdout",
     "output_type": "stream",
     "text": [
      "SMC | F-score 0.34\n"
     ]
    }
   ],
   "source": [
    "F = []\n",
    "for file in os.listdir('SMC_MIREX/SMC_MIREX_Annotations_05_08_2014/'):\n",
    "    reference = open(('SMC_MIREX/SMC_MIREX_Annotations_05_08_2014/' + file), 'r').read()\n",
    "    reference = reference.split('\\n')\n",
    "    reference.pop()\n",
    "    reference = numpy.array(list(map(eval, reference)))\n",
    "    \n",
    "    y, sr = librosa.load('SMC_MIREX/SMC_MIREX_Audio/' + file[0:7] + '.wav')\n",
    "    tempo, beats = librosa.beat.beat_track(y=y, sr=sr)\n",
    "    estimated = librosa.frames_to_time(beats, sr=sr)\n",
    "\n",
    "    F.append(mir_eval.beat.f_measure(reference, estimated))\n",
    "\n",
    "Fscore = round(sum(F)/len(F), 2)\n",
    "\n",
    "print('SMC | F-score ' + str(Fscore))"
   ]
  },
  {
   "cell_type": "markdown",
   "metadata": {},
   "source": [
    "# Q5 - JCS"
   ]
  },
  {
   "cell_type": "code",
   "execution_count": 37,
   "metadata": {},
   "outputs": [
    {
     "name": "stdout",
     "output_type": "stream",
     "text": [
      "JCS | F-score 0.65\n"
     ]
    }
   ],
   "source": [
    "F = []\n",
    "for file in os.listdir('JCS_dataset/audio_wav/'):\n",
    "    y, sr = librosa.load('JCS_dataset/audio_wav/' + file)\n",
    "    tempo, beats = librosa.beat.beat_track(y=y, sr=sr)\n",
    "    estimated = librosa.frames_to_time(beats, sr=sr)\n",
    "\n",
    "    reference = open(('JCS_dataset/annotations/' + file).replace('.wav', '_beats.txt'), 'r').read()\n",
    "    reference = re.split('\\t1\\n|\\t2\\n|\\t3\\n|\\t4\\n|\\t5\\n|\\t6\\n|\\t7\\n|\\t1|\\t2|\\t3|\\t4|\\t5|\\t6|\\t7', reference)\n",
    "    reference.pop()\n",
    "    reference = numpy.array(list(map(eval, reference)))\n",
    "\n",
    "    F.append(mir_eval.beat.f_measure(reference, estimated))\n",
    "\n",
    "Fscore = round(sum(F)/len(F), 2)\n",
    "\n",
    "print('JCS | F-score ' + str(Fscore))"
   ]
  }
 ],
 "metadata": {
  "kernelspec": {
   "display_name": "Python 3",
   "language": "python",
   "name": "python3"
  },
  "language_info": {
   "codemirror_mode": {
    "name": "ipython",
    "version": 3
   },
   "file_extension": ".py",
   "mimetype": "text/x-python",
   "name": "python",
   "nbconvert_exporter": "python",
   "pygments_lexer": "ipython3",
   "version": "3.7.0"
  }
 },
 "nbformat": 4,
 "nbformat_minor": 4
}
